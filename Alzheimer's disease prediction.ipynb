{
 "cells": [
  {
   "cell_type": "markdown",
   "id": "b58cba50",
   "metadata": {},
   "source": [
    "# Alzheimer's disease prediction\n",
    "\n",
    "\n"
   ]
  },
  {
   "cell_type": "markdown",
   "id": "83bbcf9d",
   "metadata": {},
   "source": [
    "\n",
    "\n",
    "\n",
    "## Adding Imports"
   ]
  },
  {
   "cell_type": "code",
   "execution_count": 1,
   "id": "d3c4b3fc",
   "metadata": {},
   "outputs": [],
   "source": [
    "import pandas as pd # used to load, manipulate the data\n",
    "from sklearn.model_selection import train_test_split ## for splitting the dataset into train and test split\n",
    "from sklearn.preprocessing import StandardScaler\n",
    "import matplotlib.pyplot as plt\n",
    "from pandas.plotting import scatter_matrix\n",
    "from sklearn.metrics import confusion_matrix, precision_score, accuracy_score, recall_score, f1_score, roc_curve, auc\n",
    "from sklearn.metrics import plot_confusion_matrix"
   ]
  },
  {
   "cell_type": "markdown",
   "id": "40e4cf6c",
   "metadata": {},
   "source": [
    "## Load Data"
   ]
  },
  {
   "cell_type": "markdown",
   "id": "f14eaf87",
   "metadata": {},
   "source": [
    "longitudinal Magnetic Resonance Imaging (MRI) data from OASIS."
   ]
  },
  {
   "cell_type": "code",
   "execution_count": 2,
   "id": "99790d46",
   "metadata": {
    "scrolled": true
   },
   "outputs": [
    {
     "data": {
      "text/html": [
       "<div>\n",
       "<style scoped>\n",
       "    .dataframe tbody tr th:only-of-type {\n",
       "        vertical-align: middle;\n",
       "    }\n",
       "\n",
       "    .dataframe tbody tr th {\n",
       "        vertical-align: top;\n",
       "    }\n",
       "\n",
       "    .dataframe thead th {\n",
       "        text-align: right;\n",
       "    }\n",
       "</style>\n",
       "<table border=\"1\" class=\"dataframe\">\n",
       "  <thead>\n",
       "    <tr style=\"text-align: right;\">\n",
       "      <th></th>\n",
       "      <th>Subject ID</th>\n",
       "      <th>MRI ID</th>\n",
       "      <th>Group</th>\n",
       "      <th>Visit</th>\n",
       "      <th>MR Delay</th>\n",
       "      <th>M/F</th>\n",
       "      <th>Hand</th>\n",
       "      <th>Age</th>\n",
       "      <th>EDUC</th>\n",
       "      <th>SES</th>\n",
       "      <th>MMSE</th>\n",
       "      <th>CDR</th>\n",
       "      <th>eTIV</th>\n",
       "      <th>nWBV</th>\n",
       "      <th>ASF</th>\n",
       "    </tr>\n",
       "  </thead>\n",
       "  <tbody>\n",
       "    <tr>\n",
       "      <th>0</th>\n",
       "      <td>OAS2_0001</td>\n",
       "      <td>OAS2_0001_MR1</td>\n",
       "      <td>Nondemented</td>\n",
       "      <td>1</td>\n",
       "      <td>0</td>\n",
       "      <td>M</td>\n",
       "      <td>R</td>\n",
       "      <td>87</td>\n",
       "      <td>14</td>\n",
       "      <td>2.0</td>\n",
       "      <td>27.0</td>\n",
       "      <td>0.0</td>\n",
       "      <td>1987</td>\n",
       "      <td>0.696</td>\n",
       "      <td>0.883</td>\n",
       "    </tr>\n",
       "    <tr>\n",
       "      <th>1</th>\n",
       "      <td>OAS2_0001</td>\n",
       "      <td>OAS2_0001_MR2</td>\n",
       "      <td>Nondemented</td>\n",
       "      <td>2</td>\n",
       "      <td>457</td>\n",
       "      <td>M</td>\n",
       "      <td>R</td>\n",
       "      <td>88</td>\n",
       "      <td>14</td>\n",
       "      <td>2.0</td>\n",
       "      <td>30.0</td>\n",
       "      <td>0.0</td>\n",
       "      <td>2004</td>\n",
       "      <td>0.681</td>\n",
       "      <td>0.876</td>\n",
       "    </tr>\n",
       "    <tr>\n",
       "      <th>2</th>\n",
       "      <td>OAS2_0002</td>\n",
       "      <td>OAS2_0002_MR1</td>\n",
       "      <td>Demented</td>\n",
       "      <td>1</td>\n",
       "      <td>0</td>\n",
       "      <td>M</td>\n",
       "      <td>R</td>\n",
       "      <td>75</td>\n",
       "      <td>12</td>\n",
       "      <td>NaN</td>\n",
       "      <td>23.0</td>\n",
       "      <td>0.5</td>\n",
       "      <td>1678</td>\n",
       "      <td>0.736</td>\n",
       "      <td>1.046</td>\n",
       "    </tr>\n",
       "    <tr>\n",
       "      <th>3</th>\n",
       "      <td>OAS2_0002</td>\n",
       "      <td>OAS2_0002_MR2</td>\n",
       "      <td>Demented</td>\n",
       "      <td>2</td>\n",
       "      <td>560</td>\n",
       "      <td>M</td>\n",
       "      <td>R</td>\n",
       "      <td>76</td>\n",
       "      <td>12</td>\n",
       "      <td>NaN</td>\n",
       "      <td>28.0</td>\n",
       "      <td>0.5</td>\n",
       "      <td>1738</td>\n",
       "      <td>0.713</td>\n",
       "      <td>1.010</td>\n",
       "    </tr>\n",
       "    <tr>\n",
       "      <th>4</th>\n",
       "      <td>OAS2_0002</td>\n",
       "      <td>OAS2_0002_MR3</td>\n",
       "      <td>Demented</td>\n",
       "      <td>3</td>\n",
       "      <td>1895</td>\n",
       "      <td>M</td>\n",
       "      <td>R</td>\n",
       "      <td>80</td>\n",
       "      <td>12</td>\n",
       "      <td>NaN</td>\n",
       "      <td>22.0</td>\n",
       "      <td>0.5</td>\n",
       "      <td>1698</td>\n",
       "      <td>0.701</td>\n",
       "      <td>1.034</td>\n",
       "    </tr>\n",
       "    <tr>\n",
       "      <th>5</th>\n",
       "      <td>OAS2_0004</td>\n",
       "      <td>OAS2_0004_MR1</td>\n",
       "      <td>Nondemented</td>\n",
       "      <td>1</td>\n",
       "      <td>0</td>\n",
       "      <td>F</td>\n",
       "      <td>R</td>\n",
       "      <td>88</td>\n",
       "      <td>18</td>\n",
       "      <td>3.0</td>\n",
       "      <td>28.0</td>\n",
       "      <td>0.0</td>\n",
       "      <td>1215</td>\n",
       "      <td>0.710</td>\n",
       "      <td>1.444</td>\n",
       "    </tr>\n",
       "    <tr>\n",
       "      <th>6</th>\n",
       "      <td>OAS2_0004</td>\n",
       "      <td>OAS2_0004_MR2</td>\n",
       "      <td>Nondemented</td>\n",
       "      <td>2</td>\n",
       "      <td>538</td>\n",
       "      <td>F</td>\n",
       "      <td>R</td>\n",
       "      <td>90</td>\n",
       "      <td>18</td>\n",
       "      <td>3.0</td>\n",
       "      <td>27.0</td>\n",
       "      <td>0.0</td>\n",
       "      <td>1200</td>\n",
       "      <td>0.718</td>\n",
       "      <td>1.462</td>\n",
       "    </tr>\n",
       "    <tr>\n",
       "      <th>7</th>\n",
       "      <td>OAS2_0005</td>\n",
       "      <td>OAS2_0005_MR1</td>\n",
       "      <td>Nondemented</td>\n",
       "      <td>1</td>\n",
       "      <td>0</td>\n",
       "      <td>M</td>\n",
       "      <td>R</td>\n",
       "      <td>80</td>\n",
       "      <td>12</td>\n",
       "      <td>4.0</td>\n",
       "      <td>28.0</td>\n",
       "      <td>0.0</td>\n",
       "      <td>1689</td>\n",
       "      <td>0.712</td>\n",
       "      <td>1.039</td>\n",
       "    </tr>\n",
       "    <tr>\n",
       "      <th>8</th>\n",
       "      <td>OAS2_0005</td>\n",
       "      <td>OAS2_0005_MR2</td>\n",
       "      <td>Nondemented</td>\n",
       "      <td>2</td>\n",
       "      <td>1010</td>\n",
       "      <td>M</td>\n",
       "      <td>R</td>\n",
       "      <td>83</td>\n",
       "      <td>12</td>\n",
       "      <td>4.0</td>\n",
       "      <td>29.0</td>\n",
       "      <td>0.5</td>\n",
       "      <td>1701</td>\n",
       "      <td>0.711</td>\n",
       "      <td>1.032</td>\n",
       "    </tr>\n",
       "    <tr>\n",
       "      <th>9</th>\n",
       "      <td>OAS2_0005</td>\n",
       "      <td>OAS2_0005_MR3</td>\n",
       "      <td>Nondemented</td>\n",
       "      <td>3</td>\n",
       "      <td>1603</td>\n",
       "      <td>M</td>\n",
       "      <td>R</td>\n",
       "      <td>85</td>\n",
       "      <td>12</td>\n",
       "      <td>4.0</td>\n",
       "      <td>30.0</td>\n",
       "      <td>0.0</td>\n",
       "      <td>1699</td>\n",
       "      <td>0.705</td>\n",
       "      <td>1.033</td>\n",
       "    </tr>\n",
       "  </tbody>\n",
       "</table>\n",
       "</div>"
      ],
      "text/plain": [
       "  Subject ID         MRI ID        Group  Visit  MR Delay M/F Hand  Age  EDUC  \\\n",
       "0  OAS2_0001  OAS2_0001_MR1  Nondemented      1         0   M    R   87    14   \n",
       "1  OAS2_0001  OAS2_0001_MR2  Nondemented      2       457   M    R   88    14   \n",
       "2  OAS2_0002  OAS2_0002_MR1     Demented      1         0   M    R   75    12   \n",
       "3  OAS2_0002  OAS2_0002_MR2     Demented      2       560   M    R   76    12   \n",
       "4  OAS2_0002  OAS2_0002_MR3     Demented      3      1895   M    R   80    12   \n",
       "5  OAS2_0004  OAS2_0004_MR1  Nondemented      1         0   F    R   88    18   \n",
       "6  OAS2_0004  OAS2_0004_MR2  Nondemented      2       538   F    R   90    18   \n",
       "7  OAS2_0005  OAS2_0005_MR1  Nondemented      1         0   M    R   80    12   \n",
       "8  OAS2_0005  OAS2_0005_MR2  Nondemented      2      1010   M    R   83    12   \n",
       "9  OAS2_0005  OAS2_0005_MR3  Nondemented      3      1603   M    R   85    12   \n",
       "\n",
       "   SES  MMSE  CDR  eTIV   nWBV    ASF  \n",
       "0  2.0  27.0  0.0  1987  0.696  0.883  \n",
       "1  2.0  30.0  0.0  2004  0.681  0.876  \n",
       "2  NaN  23.0  0.5  1678  0.736  1.046  \n",
       "3  NaN  28.0  0.5  1738  0.713  1.010  \n",
       "4  NaN  22.0  0.5  1698  0.701  1.034  \n",
       "5  3.0  28.0  0.0  1215  0.710  1.444  \n",
       "6  3.0  27.0  0.0  1200  0.718  1.462  \n",
       "7  4.0  28.0  0.0  1689  0.712  1.039  \n",
       "8  4.0  29.0  0.5  1701  0.711  1.032  \n",
       "9  4.0  30.0  0.0  1699  0.705  1.033  "
      ]
     },
     "execution_count": 2,
     "metadata": {},
     "output_type": "execute_result"
    }
   ],
   "source": [
    "data = pd.read_csv('oasis_longitudinal.csv')\n",
    "data.head(10)"
   ]
  },
  {
   "cell_type": "markdown",
   "id": "65461435",
   "metadata": {},
   "source": [
    "## Analysing the data"
   ]
  },
  {
   "cell_type": "markdown",
   "id": "17243474",
   "metadata": {},
   "source": [
    "The dataset has been analyzed for any categorical values."
   ]
  },
  {
   "cell_type": "code",
   "execution_count": 3,
   "id": "905ef073",
   "metadata": {},
   "outputs": [
    {
     "name": "stdout",
     "output_type": "stream",
     "text": [
      "<class 'pandas.core.frame.DataFrame'>\n",
      "RangeIndex: 373 entries, 0 to 372\n",
      "Data columns (total 15 columns):\n",
      " #   Column      Non-Null Count  Dtype  \n",
      "---  ------      --------------  -----  \n",
      " 0   Subject ID  373 non-null    object \n",
      " 1   MRI ID      373 non-null    object \n",
      " 2   Group       373 non-null    object \n",
      " 3   Visit       373 non-null    int64  \n",
      " 4   MR Delay    373 non-null    int64  \n",
      " 5   M/F         373 non-null    object \n",
      " 6   Hand        373 non-null    object \n",
      " 7   Age         373 non-null    int64  \n",
      " 8   EDUC        373 non-null    int64  \n",
      " 9   SES         354 non-null    float64\n",
      " 10  MMSE        371 non-null    float64\n",
      " 11  CDR         373 non-null    float64\n",
      " 12  eTIV        373 non-null    int64  \n",
      " 13  nWBV        373 non-null    float64\n",
      " 14  ASF         373 non-null    float64\n",
      "dtypes: float64(5), int64(5), object(5)\n",
      "memory usage: 43.8+ KB\n"
     ]
    }
   ],
   "source": [
    "#data = data.loc[data['Visit']==1] #use first visit data only because of the analysis we're doing\n",
    "#data = data.reset_index(drop=True) #reset index after filtering first visit data\n",
    "data.info()"
   ]
  },
  {
   "cell_type": "markdown",
   "id": "41863234",
   "metadata": {},
   "source": [
    "## Converting Categorical Data to Numerical Data"
   ]
  },
  {
   "cell_type": "markdown",
   "id": "09d01f5d",
   "metadata": {},
   "source": [
    "gender and group attribute columnsare converted into numeric values 0 and 1. "
   ]
  },
  {
   "cell_type": "code",
   "execution_count": 4,
   "id": "c7b749e2",
   "metadata": {},
   "outputs": [
    {
     "name": "stdout",
     "output_type": "stream",
     "text": [
      "<class 'pandas.core.frame.DataFrame'>\n",
      "RangeIndex: 373 entries, 0 to 372\n",
      "Data columns (total 15 columns):\n",
      " #   Column      Non-Null Count  Dtype  \n",
      "---  ------      --------------  -----  \n",
      " 0   Subject ID  373 non-null    object \n",
      " 1   MRI ID      373 non-null    object \n",
      " 2   Group       373 non-null    int64  \n",
      " 3   Visit       373 non-null    int64  \n",
      " 4   MR Delay    373 non-null    int64  \n",
      " 5   Gender      373 non-null    int64  \n",
      " 6   Hand        373 non-null    object \n",
      " 7   Age         373 non-null    int64  \n",
      " 8   EDUC        373 non-null    int64  \n",
      " 9   SES         354 non-null    float64\n",
      " 10  MMSE        371 non-null    float64\n",
      " 11  CDR         373 non-null    float64\n",
      " 12  eTIV        373 non-null    int64  \n",
      " 13  nWBV        373 non-null    float64\n",
      " 14  ASF         373 non-null    float64\n",
      "dtypes: float64(5), int64(7), object(3)\n",
      "memory usage: 43.8+ KB\n"
     ]
    }
   ],
   "source": [
    "data['M/F'] = data['M/F'].apply(lambda x: 0 if x == 'F' else 1) #0 for F\n",
    "data['Group'] = data['Group'].apply(lambda x: 0 if x == 'Nondemented' else 1) #0 for Nondemented\n",
    "data.rename(columns={'M/F':'Gender'}, inplace=True)\n",
    "data.info()"
   ]
  },
  {
   "cell_type": "markdown",
   "id": "692e8501",
   "metadata": {},
   "source": [
    "## Correlation matrix"
   ]
  },
  {
   "cell_type": "markdown",
   "id": "9692e5d6",
   "metadata": {},
   "source": [
    "the correlation between attributes has been checked by using the “correlation matrix” function based on group attributes. "
   ]
  },
  {
   "cell_type": "code",
   "execution_count": 5,
   "id": "3e9759f0",
   "metadata": {},
   "outputs": [
    {
     "data": {
      "text/plain": [
       "Group       1.000000\n",
       "CDR         0.778049\n",
       "Gender      0.222146\n",
       "SES         0.062463\n",
       "ASF         0.032495\n",
       "Age        -0.005941\n",
       "eTIV       -0.042700\n",
       "Visit      -0.095507\n",
       "MR Delay   -0.120638\n",
       "EDUC       -0.193060\n",
       "nWBV       -0.311346\n",
       "MMSE       -0.524775\n",
       "Name: Group, dtype: float64"
      ]
     },
     "execution_count": 5,
     "metadata": {},
     "output_type": "execute_result"
    }
   ],
   "source": [
    "correlation_matrix = data.corr()\n",
    "data_corr = correlation_matrix['Group'].sort_values(ascending=False)\n",
    "data_corr"
   ]
  },
  {
   "cell_type": "markdown",
   "id": "1b1ad70c",
   "metadata": {},
   "source": [
    "## Checking for any null or missing values."
   ]
  },
  {
   "cell_type": "markdown",
   "id": "d69ec643",
   "metadata": {},
   "source": [
    "The median value is used to fill in those missing values for features."
   ]
  },
  {
   "cell_type": "code",
   "execution_count": 6,
   "id": "0556881b",
   "metadata": {},
   "outputs": [
    {
     "data": {
      "text/plain": [
       "Subject ID     0\n",
       "MRI ID         0\n",
       "Group          0\n",
       "Visit          0\n",
       "MR Delay       0\n",
       "Gender         0\n",
       "Hand           0\n",
       "Age            0\n",
       "EDUC           0\n",
       "SES           19\n",
       "MMSE           2\n",
       "CDR            0\n",
       "eTIV           0\n",
       "nWBV           0\n",
       "ASF            0\n",
       "dtype: int64"
      ]
     },
     "execution_count": 6,
     "metadata": {},
     "output_type": "execute_result"
    }
   ],
   "source": [
    "data.isnull().sum()"
   ]
  },
  {
   "cell_type": "code",
   "execution_count": 7,
   "id": "878cdb74",
   "metadata": {},
   "outputs": [
    {
     "data": {
      "text/plain": [
       "Subject ID    0\n",
       "MRI ID        0\n",
       "Group         0\n",
       "Visit         0\n",
       "MR Delay      0\n",
       "Gender        0\n",
       "Hand          0\n",
       "Age           0\n",
       "EDUC          0\n",
       "SES           0\n",
       "MMSE          0\n",
       "CDR           0\n",
       "eTIV          0\n",
       "nWBV          0\n",
       "ASF           0\n",
       "dtype: int64"
      ]
     },
     "execution_count": 7,
     "metadata": {},
     "output_type": "execute_result"
    }
   ],
   "source": [
    "SES=data['SES'].median()\n",
    "MMSE=data['MMSE'].median()\n",
    "data['SES'] = data['SES'].fillna(SES)\n",
    "data['MMSE'] = data['MMSE'].fillna(MMSE)\n",
    "data.isnull().sum()"
   ]
  },
  {
   "cell_type": "markdown",
   "id": "75c99270",
   "metadata": {},
   "source": [
    "## Drop unnecessary columns"
   ]
  },
  {
   "cell_type": "code",
   "execution_count": 8,
   "id": "310c0a3c",
   "metadata": {},
   "outputs": [
    {
     "data": {
      "text/html": [
       "<div>\n",
       "<style scoped>\n",
       "    .dataframe tbody tr th:only-of-type {\n",
       "        vertical-align: middle;\n",
       "    }\n",
       "\n",
       "    .dataframe tbody tr th {\n",
       "        vertical-align: top;\n",
       "    }\n",
       "\n",
       "    .dataframe thead th {\n",
       "        text-align: right;\n",
       "    }\n",
       "</style>\n",
       "<table border=\"1\" class=\"dataframe\">\n",
       "  <thead>\n",
       "    <tr style=\"text-align: right;\">\n",
       "      <th></th>\n",
       "      <th>Group</th>\n",
       "      <th>Visit</th>\n",
       "      <th>Gender</th>\n",
       "      <th>Age</th>\n",
       "      <th>EDUC</th>\n",
       "      <th>SES</th>\n",
       "      <th>MMSE</th>\n",
       "      <th>CDR</th>\n",
       "      <th>eTIV</th>\n",
       "      <th>nWBV</th>\n",
       "      <th>ASF</th>\n",
       "    </tr>\n",
       "  </thead>\n",
       "  <tbody>\n",
       "    <tr>\n",
       "      <th>0</th>\n",
       "      <td>0</td>\n",
       "      <td>1</td>\n",
       "      <td>1</td>\n",
       "      <td>87</td>\n",
       "      <td>14</td>\n",
       "      <td>2.0</td>\n",
       "      <td>27.0</td>\n",
       "      <td>0.0</td>\n",
       "      <td>1987</td>\n",
       "      <td>0.696</td>\n",
       "      <td>0.883</td>\n",
       "    </tr>\n",
       "    <tr>\n",
       "      <th>1</th>\n",
       "      <td>0</td>\n",
       "      <td>2</td>\n",
       "      <td>1</td>\n",
       "      <td>88</td>\n",
       "      <td>14</td>\n",
       "      <td>2.0</td>\n",
       "      <td>30.0</td>\n",
       "      <td>0.0</td>\n",
       "      <td>2004</td>\n",
       "      <td>0.681</td>\n",
       "      <td>0.876</td>\n",
       "    </tr>\n",
       "    <tr>\n",
       "      <th>2</th>\n",
       "      <td>1</td>\n",
       "      <td>1</td>\n",
       "      <td>1</td>\n",
       "      <td>75</td>\n",
       "      <td>12</td>\n",
       "      <td>2.0</td>\n",
       "      <td>23.0</td>\n",
       "      <td>0.5</td>\n",
       "      <td>1678</td>\n",
       "      <td>0.736</td>\n",
       "      <td>1.046</td>\n",
       "    </tr>\n",
       "    <tr>\n",
       "      <th>3</th>\n",
       "      <td>1</td>\n",
       "      <td>2</td>\n",
       "      <td>1</td>\n",
       "      <td>76</td>\n",
       "      <td>12</td>\n",
       "      <td>2.0</td>\n",
       "      <td>28.0</td>\n",
       "      <td>0.5</td>\n",
       "      <td>1738</td>\n",
       "      <td>0.713</td>\n",
       "      <td>1.010</td>\n",
       "    </tr>\n",
       "    <tr>\n",
       "      <th>4</th>\n",
       "      <td>1</td>\n",
       "      <td>3</td>\n",
       "      <td>1</td>\n",
       "      <td>80</td>\n",
       "      <td>12</td>\n",
       "      <td>2.0</td>\n",
       "      <td>22.0</td>\n",
       "      <td>0.5</td>\n",
       "      <td>1698</td>\n",
       "      <td>0.701</td>\n",
       "      <td>1.034</td>\n",
       "    </tr>\n",
       "    <tr>\n",
       "      <th>...</th>\n",
       "      <td>...</td>\n",
       "      <td>...</td>\n",
       "      <td>...</td>\n",
       "      <td>...</td>\n",
       "      <td>...</td>\n",
       "      <td>...</td>\n",
       "      <td>...</td>\n",
       "      <td>...</td>\n",
       "      <td>...</td>\n",
       "      <td>...</td>\n",
       "      <td>...</td>\n",
       "    </tr>\n",
       "    <tr>\n",
       "      <th>368</th>\n",
       "      <td>1</td>\n",
       "      <td>2</td>\n",
       "      <td>1</td>\n",
       "      <td>82</td>\n",
       "      <td>16</td>\n",
       "      <td>1.0</td>\n",
       "      <td>28.0</td>\n",
       "      <td>0.5</td>\n",
       "      <td>1693</td>\n",
       "      <td>0.694</td>\n",
       "      <td>1.037</td>\n",
       "    </tr>\n",
       "    <tr>\n",
       "      <th>369</th>\n",
       "      <td>1</td>\n",
       "      <td>3</td>\n",
       "      <td>1</td>\n",
       "      <td>86</td>\n",
       "      <td>16</td>\n",
       "      <td>1.0</td>\n",
       "      <td>26.0</td>\n",
       "      <td>0.5</td>\n",
       "      <td>1688</td>\n",
       "      <td>0.675</td>\n",
       "      <td>1.040</td>\n",
       "    </tr>\n",
       "    <tr>\n",
       "      <th>370</th>\n",
       "      <td>0</td>\n",
       "      <td>1</td>\n",
       "      <td>0</td>\n",
       "      <td>61</td>\n",
       "      <td>13</td>\n",
       "      <td>2.0</td>\n",
       "      <td>30.0</td>\n",
       "      <td>0.0</td>\n",
       "      <td>1319</td>\n",
       "      <td>0.801</td>\n",
       "      <td>1.331</td>\n",
       "    </tr>\n",
       "    <tr>\n",
       "      <th>371</th>\n",
       "      <td>0</td>\n",
       "      <td>2</td>\n",
       "      <td>0</td>\n",
       "      <td>63</td>\n",
       "      <td>13</td>\n",
       "      <td>2.0</td>\n",
       "      <td>30.0</td>\n",
       "      <td>0.0</td>\n",
       "      <td>1327</td>\n",
       "      <td>0.796</td>\n",
       "      <td>1.323</td>\n",
       "    </tr>\n",
       "    <tr>\n",
       "      <th>372</th>\n",
       "      <td>0</td>\n",
       "      <td>3</td>\n",
       "      <td>0</td>\n",
       "      <td>65</td>\n",
       "      <td>13</td>\n",
       "      <td>2.0</td>\n",
       "      <td>30.0</td>\n",
       "      <td>0.0</td>\n",
       "      <td>1333</td>\n",
       "      <td>0.801</td>\n",
       "      <td>1.317</td>\n",
       "    </tr>\n",
       "  </tbody>\n",
       "</table>\n",
       "<p>373 rows × 11 columns</p>\n",
       "</div>"
      ],
      "text/plain": [
       "     Group  Visit  Gender  Age  EDUC  SES  MMSE  CDR  eTIV   nWBV    ASF\n",
       "0        0      1       1   87    14  2.0  27.0  0.0  1987  0.696  0.883\n",
       "1        0      2       1   88    14  2.0  30.0  0.0  2004  0.681  0.876\n",
       "2        1      1       1   75    12  2.0  23.0  0.5  1678  0.736  1.046\n",
       "3        1      2       1   76    12  2.0  28.0  0.5  1738  0.713  1.010\n",
       "4        1      3       1   80    12  2.0  22.0  0.5  1698  0.701  1.034\n",
       "..     ...    ...     ...  ...   ...  ...   ...  ...   ...    ...    ...\n",
       "368      1      2       1   82    16  1.0  28.0  0.5  1693  0.694  1.037\n",
       "369      1      3       1   86    16  1.0  26.0  0.5  1688  0.675  1.040\n",
       "370      0      1       0   61    13  2.0  30.0  0.0  1319  0.801  1.331\n",
       "371      0      2       0   63    13  2.0  30.0  0.0  1327  0.796  1.323\n",
       "372      0      3       0   65    13  2.0  30.0  0.0  1333  0.801  1.317\n",
       "\n",
       "[373 rows x 11 columns]"
      ]
     },
     "execution_count": 8,
     "metadata": {},
     "output_type": "execute_result"
    }
   ],
   "source": [
    "data = data.drop(['Subject ID', 'MRI ID', 'MR Delay', 'Hand'], axis=1) \n",
    "data"
   ]
  },
  {
   "cell_type": "markdown",
   "id": "fa3a5335",
   "metadata": {},
   "source": [
    "## Assign the features and the target value."
   ]
  },
  {
   "cell_type": "markdown",
   "id": "f4e54d3a",
   "metadata": {},
   "source": [
    "X = the features for making the prediction.\n",
    "y = the target value set so that the model can predict."
   ]
  },
  {
   "cell_type": "code",
   "execution_count": 9,
   "id": "8fe40dd9",
   "metadata": {},
   "outputs": [],
   "source": [
    "y = data['Group']\n",
    "X = data.drop(['Group', 'ASF'], axis=1)"
   ]
  },
  {
   "cell_type": "markdown",
   "id": "7decc7fc",
   "metadata": {},
   "source": [
    "## Split the dataset"
   ]
  },
  {
   "cell_type": "markdown",
   "id": "368420c4",
   "metadata": {},
   "source": [
    "stratified sampling has been applied with atraining-validation size of 80% and a testing size of 20%."
   ]
  },
  {
   "cell_type": "code",
   "execution_count": 10,
   "id": "d2a0c17b",
   "metadata": {},
   "outputs": [],
   "source": [
    "X_train, X_test, y_train, y_test = train_test_split(X, y, test_size=0.2, random_state=45)"
   ]
  },
  {
   "cell_type": "markdown",
   "id": "3d50b68b",
   "metadata": {},
   "source": [
    "## Scale the dataset"
   ]
  },
  {
   "cell_type": "markdown",
   "id": "93c7e4a0",
   "metadata": {},
   "source": [
    "standardization has been applied.The result of standardization is that the features will be rescaled to ensure the mean and the standard deviation to be 0 and 1, respectively."
   ]
  },
  {
   "cell_type": "code",
   "execution_count": 11,
   "id": "79fa0953",
   "metadata": {},
   "outputs": [],
   "source": [
    "scaler = StandardScaler().fit(X_train)\n",
    "X_train_scaled = scaler.transform(X_train)\n",
    "X_test_scaled = scaler.transform(X_test)"
   ]
  },
  {
   "cell_type": "markdown",
   "id": "c60abc74",
   "metadata": {},
   "source": [
    "## Data Visualization"
   ]
  },
  {
   "cell_type": "code",
   "execution_count": 12,
   "id": "55628be1",
   "metadata": {
    "scrolled": false
   },
   "outputs": [
    {
     "data": {
      "image/png": "[encoded data removed]",
      "text/plain": [
       "<Figure size 1440x1080 with 9 Axes>"
      ]
     },
     "metadata": {
      "needs_background": "light"
     },
     "output_type": "display_data"
    }
   ],
   "source": [
    "#Histogram\n",
    "X_train.hist(bins=30, figsize=(20,15))\n",
    "plt.show()"
   ]
  },
  {
   "cell_type": "markdown",
   "id": "c0c6e806",
   "metadata": {},
   "source": [
    "shows the histogram of the training and validation set. Histogram portrays the ratios of the dataset."
   ]
  },
  {
   "cell_type": "code",
   "execution_count": 13,
   "id": "085d6676",
   "metadata": {},
   "outputs": [
    {
     "data": {
      "text/plain": [
       "array([[<AxesSubplot:xlabel='Group', ylabel='Group'>,\n",
       "        <AxesSubplot:xlabel='CDR', ylabel='Group'>,\n",
       "        <AxesSubplot:xlabel='Gender', ylabel='Group'>,\n",
       "        <AxesSubplot:xlabel='SES', ylabel='Group'>,\n",
       "        <AxesSubplot:xlabel='ASF', ylabel='Group'>],\n",
       "       [<AxesSubplot:xlabel='Group', ylabel='CDR'>,\n",
       "        <AxesSubplot:xlabel='CDR', ylabel='CDR'>,\n",
       "        <AxesSubplot:xlabel='Gender', ylabel='CDR'>,\n",
       "        <AxesSubplot:xlabel='SES', ylabel='CDR'>,\n",
       "        <AxesSubplot:xlabel='ASF', ylabel='CDR'>],\n",
       "       [<AxesSubplot:xlabel='Group', ylabel='Gender'>,\n",
       "        <AxesSubplot:xlabel='CDR', ylabel='Gender'>,\n",
       "        <AxesSubplot:xlabel='Gender', ylabel='Gender'>,\n",
       "        <AxesSubplot:xlabel='SES', ylabel='Gender'>,\n",
       "        <AxesSubplot:xlabel='ASF', ylabel='Gender'>],\n",
       "       [<AxesSubplot:xlabel='Group', ylabel='SES'>,\n",
       "        <AxesSubplot:xlabel='CDR', ylabel='SES'>,\n",
       "        <AxesSubplot:xlabel='Gender', ylabel='SES'>,\n",
       "        <AxesSubplot:xlabel='SES', ylabel='SES'>,\n",
       "        <AxesSubplot:xlabel='ASF', ylabel='SES'>],\n",
       "       [<AxesSubplot:xlabel='Group', ylabel='ASF'>,\n",
       "        <AxesSubplot:xlabel='CDR', ylabel='ASF'>,\n",
       "        <AxesSubplot:xlabel='Gender', ylabel='ASF'>,\n",
       "        <AxesSubplot:xlabel='SES', ylabel='ASF'>,\n",
       "        <AxesSubplot:xlabel='ASF', ylabel='ASF'>]], dtype=object)"
      ]
     },
     "execution_count": 13,
     "metadata": {},
     "output_type": "execute_result"
    },
    {
     "data": {
      "image/png": "[encoded data removed]",
      "text/plain": [
       "<Figure size 1080x792 with 25 Axes>"
      ]
     },
     "metadata": {
      "needs_background": "light"
     },
     "output_type": "display_data"
    }
   ],
   "source": [
    "#Correlation Matrix\n",
    "attributes = [\"Group\", \"CDR\", \"Gender\", \"SES\", \"ASF\"]\n",
    "scatter_matrix(data[attributes], figsize=(15, 11), alpha=0.3)"
   ]
  },
  {
   "cell_type": "markdown",
   "id": "7ea89a1b",
   "metadata": {},
   "source": [
    "shows the correlation matrix of the features in the dataset. the correlation matrix indicates how features are interrelated with each other."
   ]
  },
  {
   "cell_type": "markdown",
   "id": "448ccf29",
   "metadata": {},
   "source": [
    "# Models"
   ]
  },
  {
   "cell_type": "markdown",
   "id": "3bdb7414",
   "metadata": {},
   "source": [
    "## Support vector machine"
   ]
  },
  {
   "cell_type": "code",
   "execution_count": 14,
   "id": "94ad321a",
   "metadata": {},
   "outputs": [
    {
     "data": {
      "text/plain": [
       "<sklearn.metrics._plot.confusion_matrix.ConfusionMatrixDisplay at 0x1658d031f10>"
      ]
     },
     "execution_count": 14,
     "metadata": {},
     "output_type": "execute_result"
    },
    {
     "data": {
      "image/png": "[encoded data removed]",
      "text/plain": [
       "<Figure size 432x288 with 2 Axes>"
      ]
     },
     "metadata": {
      "needs_background": "light"
     },
     "output_type": "display_data"
    }
   ],
   "source": [
    "from sklearn.svm import SVC\n",
    "svm = SVC().fit(X_train_scaled, y_train)\n",
    "plot_confusion_matrix(svm, \n",
    "                      X_test_scaled, \n",
    "                      y_test, \n",
    "                      values_format='d', \n",
    "                      display_labels=['Nondemented', 'Demented'])"
   ]
  },
  {
   "cell_type": "code",
   "execution_count": 15,
   "id": "f5ab9bc5",
   "metadata": {},
   "outputs": [
    {
     "name": "stdout",
     "output_type": "stream",
     "text": [
      "Accuracy: 96.00% \n",
      "Test precision: 100.00% \n",
      "Test recall: 91.67% \n",
      "Test F1: 95.65% \n",
      "Test AUC: 95.83% \n"
     ]
    }
   ],
   "source": [
    "acc_svm = 0\n",
    "train_score = 0\n",
    "test_score = 0\n",
    "test_precision = 0\n",
    "test_recall = 0\n",
    "F1_Score = 0\n",
    "test_auc = 0\n",
    "\n",
    "train_score = svm.score(X_train_scaled, y_train)\n",
    "test_score = svm.score(X_test_scaled, y_test)\n",
    "y_predict = svm.predict(X_test_scaled)\n",
    "\n",
    "test_precision = precision_score(y_test, y_predict, pos_label=1)\n",
    "test_recall = recall_score(y_test, y_predict, pos_label=1)\n",
    "F1_Score = f1_score(y_test, y_predict, pos_label=1)\n",
    "\n",
    "svm_fpr, svm_tpr, thresholds = roc_curve(y_test, y_predict)\n",
    "test_auc = auc(svm_fpr, svm_tpr)\n",
    "\n",
    "acc_svm = accuracy_score(y_test, y_predict)\n",
    "print('Accuracy: {:.2%} '.format(acc_svm))\n",
    "\n",
    "#print(\"Train accuracy \", train_score)\n",
    "#print(\"Test accuracy \", test_score)\n",
    "\n",
    "print('Test precision: {:.2%} '.format(test_precision))\n",
    "print('Test recall: {:.2%} '.format(test_recall))\n",
    "print('Test F1: {:.2%} '.format(F1_Score))\n",
    "print('Test AUC: {:.2%} '.format(test_auc))"
   ]
  },
  {
   "cell_type": "markdown",
   "id": "e7b267f0",
   "metadata": {},
   "source": [
    "## Logistic Regression"
   ]
  },
  {
   "cell_type": "code",
   "execution_count": 16,
   "id": "a507553a",
   "metadata": {},
   "outputs": [
    {
     "data": {
      "text/plain": [
       "<sklearn.metrics._plot.confusion_matrix.ConfusionMatrixDisplay at 0x1658d460a60>"
      ]
     },
     "execution_count": 16,
     "metadata": {},
     "output_type": "execute_result"
    },
    {
     "data": {
      "image/png": "[encoded data removed]",
      "text/plain": [
       "<Figure size 432x288 with 2 Axes>"
      ]
     },
     "metadata": {
      "needs_background": "light"
     },
     "output_type": "display_data"
    }
   ],
   "source": [
    "from sklearn.linear_model import LogisticRegression\n",
    "log_reg = LogisticRegression().fit(X_train_scaled, y_train)\n",
    "plot_confusion_matrix(log_reg, \n",
    "                      X_test_scaled, \n",
    "                      y_test, \n",
    "                      values_format='d', \n",
    "                      display_labels=['Nondemented', 'Demented'])"
   ]
  },
  {
   "cell_type": "code",
   "execution_count": 17,
   "id": "fabbfa3d",
   "metadata": {},
   "outputs": [
    {
     "name": "stdout",
     "output_type": "stream",
     "text": [
      "Accuracy: 94.67% \n",
      "Test precision: 97.06% \n",
      "Test recall: 91.67% \n",
      "Test F1: 94.29% \n",
      "Test AUC: 94.55% \n"
     ]
    }
   ],
   "source": [
    "acc_lg = 0\n",
    "train_score = 0\n",
    "test_score = 0\n",
    "test_precision = 0\n",
    "test_recall = 0\n",
    "F1_Score = 0\n",
    "test_auc = 0\n",
    "\n",
    "train_score = log_reg.score(X_train_scaled, y_train)\n",
    "test_score = log_reg.score(X_test_scaled, y_test)\n",
    "y_predict = log_reg.predict(X_test_scaled)\n",
    "\n",
    "test_precision = precision_score(y_test, y_predict, pos_label=1)\n",
    "test_recall = recall_score(y_test, y_predict, pos_label=1)\n",
    "F1_Score = f1_score(y_test, y_predict, pos_label=1)\n",
    "\n",
    "lgr_fpr, lgr_tpr, thresholds = roc_curve(y_test, y_predict)\n",
    "test_auc = auc(lgr_fpr, lgr_tpr)\n",
    "\n",
    "acc_lg = accuracy_score(y_test, y_predict)\n",
    "print('Accuracy: {:.2%} '.format(acc_lg))\n",
    "\n",
    "#print(\"Train accuracy \", train_score)\n",
    "#print(\"Test accuracy \", test_score)\n",
    "\n",
    "print('Test precision: {:.2%} '.format(test_precision))\n",
    "print('Test recall: {:.2%} '.format(test_recall))\n",
    "print('Test F1: {:.2%} '.format(F1_Score))\n",
    "print('Test AUC: {:.2%} '.format(test_auc))"
   ]
  },
  {
   "cell_type": "markdown",
   "id": "1f09fa85",
   "metadata": {},
   "source": [
    "## Decision Tree"
   ]
  },
  {
   "cell_type": "code",
   "execution_count": 18,
   "id": "fa44e177",
   "metadata": {},
   "outputs": [
    {
     "data": {
      "text/plain": [
       "<sklearn.metrics._plot.confusion_matrix.ConfusionMatrixDisplay at 0x1658d460d00>"
      ]
     },
     "execution_count": 18,
     "metadata": {},
     "output_type": "execute_result"
    },
    {
     "data": {
      "image/png": "[encoded data removed]",
      "text/plain": [
       "<Figure size 432x288 with 2 Axes>"
      ]
     },
     "metadata": {
      "needs_background": "light"
     },
     "output_type": "display_data"
    }
   ],
   "source": [
    "from sklearn.tree import DecisionTreeClassifier\n",
    "dt = DecisionTreeClassifier().fit(X_train_scaled, y_train)\n",
    "plot_confusion_matrix(dt, \n",
    "                      X_test_scaled, \n",
    "                      y_test, \n",
    "                      values_format='d', \n",
    "                      display_labels=['Nondemented', 'Demented'])"
   ]
  },
  {
   "cell_type": "code",
   "execution_count": 19,
   "id": "b28305b7",
   "metadata": {},
   "outputs": [
    {
     "name": "stdout",
     "output_type": "stream",
     "text": [
      "Accuracy: 96.00% \n",
      "Test precision: 97.14% \n",
      "Test recall: 94.44% \n",
      "Test F1: 95.77% \n",
      "Test AUC: 95.94% \n"
     ]
    }
   ],
   "source": [
    "acc_ds = 0\n",
    "train_score = 0\n",
    "test_score = 0\n",
    "test_precision = 0\n",
    "test_recall = 0\n",
    "F1_Score = 0\n",
    "test_auc = 0\n",
    "\n",
    "train_score = dt.score(X_train_scaled, y_train)\n",
    "test_score = dt.score(X_test_scaled, y_test)\n",
    "y_predict = dt.predict(X_test_scaled)\n",
    "\n",
    "test_precision = precision_score(y_test, y_predict, pos_label=1)\n",
    "test_recall = recall_score(y_test, y_predict, pos_label=1)\n",
    "F1_Score = f1_score(y_test, y_predict, pos_label=1)\n",
    "\n",
    "dt_fpr, dt_tpr, thresholds = roc_curve(y_test, y_predict)\n",
    "test_auc = auc(dt_fpr, dt_tpr)\n",
    "\n",
    "acc_ds = accuracy_score(y_test, y_predict)\n",
    "print('Accuracy: {:.2%} '.format(acc_ds))\n",
    "\n",
    "#print(\"Train accuracy \", train_score)\n",
    "#print(\"Test accuracy \", test_score)\n",
    "\n",
    "print('Test precision: {:.2%} '.format(test_precision))\n",
    "print('Test recall: {:.2%} '.format(test_recall))\n",
    "print('Test F1: {:.2%} '.format(F1_Score))\n",
    "print('Test AUC: {:.2%} '.format(test_auc))"
   ]
  },
  {
   "cell_type": "markdown",
   "id": "8fb1e2a4",
   "metadata": {},
   "source": [
    "## Random Forest"
   ]
  },
  {
   "cell_type": "code",
   "execution_count": 20,
   "id": "a73878b9",
   "metadata": {},
   "outputs": [
    {
     "data": {
      "text/plain": [
       "<sklearn.metrics._plot.confusion_matrix.ConfusionMatrixDisplay at 0x1658d7a4370>"
      ]
     },
     "execution_count": 20,
     "metadata": {},
     "output_type": "execute_result"
    },
    {
     "data": {
      "image/png": "[encoded data removed]",
      "text/plain": [
       "<Figure size 432x288 with 2 Axes>"
      ]
     },
     "metadata": {
      "needs_background": "light"
     },
     "output_type": "display_data"
    }
   ],
   "source": [
    "from sklearn.ensemble import RandomForestClassifier\n",
    "rf = RandomForestClassifier().fit(X_train_scaled, y_train)\n",
    "plot_confusion_matrix(rf, \n",
    "                      X_test_scaled, \n",
    "                      y_test, \n",
    "                      values_format='d', \n",
    "                      display_labels=['Nondemented', 'Demented'])"
   ]
  },
  {
   "cell_type": "code",
   "execution_count": 21,
   "id": "5d6a2192",
   "metadata": {},
   "outputs": [
    {
     "name": "stdout",
     "output_type": "stream",
     "text": [
      "Accuracy: 97.33% \n",
      "Test precision: 100.00% \n",
      "Test recall: 94.44% \n",
      "Test F1: 97.14% \n",
      "Test AUC: 97.22% \n"
     ]
    }
   ],
   "source": [
    "acc_rf = 0\n",
    "train_score = 0\n",
    "test_score = 0\n",
    "test_precision = 0\n",
    "test_recall = 0\n",
    "F1_Score = 0\n",
    "test_auc = 0\n",
    "\n",
    "train_score = rf.score(X_train_scaled, y_train)\n",
    "test_score = rf.score(X_test_scaled, y_test)\n",
    "y_predict = rf.predict(X_test_scaled)\n",
    "\n",
    "test_precision = precision_score(y_test, y_predict, pos_label=1)\n",
    "test_recall = recall_score(y_test, y_predict, pos_label=1)\n",
    "F1_Score = f1_score(y_test, y_predict, pos_label=1)\n",
    "\n",
    "rfc_fpr, rfc_tpr, thresholds = roc_curve(y_test, y_predict)\n",
    "test_auc = auc(rfc_fpr, rfc_tpr)\n",
    "\n",
    "acc_rf = accuracy_score(y_test, y_predict)\n",
    "print('Accuracy: {:.2%} '.format(acc_rf))\n",
    "\n",
    "#print(\"Train accuracy \", train_score)\n",
    "#print(\"Test accuracy \", test_score)\n",
    "\n",
    "print('Test precision: {:.2%} '.format(test_precision))\n",
    "print('Test recall: {:.2%} '.format(test_recall))\n",
    "print('Test F1: {:.2%} '.format(F1_Score))\n",
    "print('Test AUC: {:.2%} '.format(test_auc))"
   ]
  },
  {
   "cell_type": "markdown",
   "id": "69e2fca9",
   "metadata": {},
   "source": [
    "## Bar chart of Classifiers "
   ]
  },
  {
   "cell_type": "code",
   "execution_count": 22,
   "id": "a20f98fb",
   "metadata": {},
   "outputs": [
    {
     "data": {
      "image/png": "[encoded data removed]",
      "text/plain": [
       "<Figure size 432x288 with 1 Axes>"
      ]
     },
     "metadata": {
      "needs_background": "light"
     },
     "output_type": "display_data"
    }
   ],
   "source": [
    "import numpy as np\n",
    "import matplotlib.pyplot as plt\n",
    "\n",
    "ind = np.arange(4)\n",
    "width = 0.20\n",
    "fig, ax = plt.subplots()\n",
    "\n",
    "accu = [96.00, 94.67, 94.67, 97.33]\n",
    "rects1 = ax.bar(ind, accu, width, color='purple')\n",
    "prec = [100.00, 97.06, 97.06, 100.00]\n",
    "rects2 = ax.bar(ind+width, prec, width, color='skyblue')\n",
    "rec = [91.67, 91.67, 91.67, 94.44]\n",
    "rects3 = ax.bar(ind + 2 * width, rec, width, color='tomato')\n",
    "f1 = [95.65, 94.29, 94.29, 97.14]\n",
    "rects4 = ax.bar(ind + 3 * width, f1, width, color='black')\n",
    "\n",
    "ax.set_ylabel('Scores')\n",
    "ax.set_title('Scores for each algorithm')\n",
    "ax.set_xticks(ind + 1.5*width)\n",
    "ax.set_xticklabels(('SVM ', 'Log-Reg', 'Decision Tree', 'Random Forest'))\n",
    "\n",
    "ax.legend((rects1[0], rects2[0], rects3[0], rects4[0]),\n",
    "          ('Accuracy', 'Precision', 'Recall', 'F1_score'),\n",
    "          bbox_to_anchor = (1.05, 0.7))\n",
    "\n",
    "\n",
    "plt.show()"
   ]
  },
  {
   "cell_type": "markdown",
   "id": "738476a9",
   "metadata": {},
   "source": [
    "## Plot ROC and compare AUC"
   ]
  },
  {
   "cell_type": "code",
   "execution_count": 23,
   "id": "ddaed9df",
   "metadata": {},
   "outputs": [
    {
     "data": {
      "image/png": "[encoded data removed]",
      "text/plain": [
       "<Figure size 500x500 with 1 Axes>"
      ]
     },
     "metadata": {
      "needs_background": "light"
     },
     "output_type": "display_data"
    }
   ],
   "source": [
    "import matplotlib.pyplot as plt\n",
    "\n",
    "plt.figure(figsize=(5, 5), dpi=100)\n",
    "plt.plot(svm_fpr, svm_tpr, linestyle='-', label='SVM')\n",
    "plt.plot(lgr_fpr, lgr_tpr, marker='.', label='Logistic Regression')\n",
    "plt.plot(rfc_fpr, rfc_tpr, linestyle=':', label='Random Forest')\n",
    "plt.plot(dt_fpr, dt_tpr, linestyle='-.', label='Decision Tree')\n",
    "\n",
    "plt.xlabel('False Positive Rate')\n",
    "plt.ylabel('True Positive Rate')\n",
    "\n",
    "plt.legend()\n",
    "\n",
    "plt.show()"
   ]
  },
  {
   "cell_type": "markdown",
   "id": "8bda9616",
   "metadata": {},
   "source": [
    "## cross validation"
   ]
  },
  {
   "cell_type": "markdown",
   "id": "a121f069",
   "metadata": {},
   "source": [
    "5-fold cross-validation has been applied to evaluate all possible combinations."
   ]
  },
  {
   "cell_type": "code",
   "execution_count": 24,
   "id": "a3540f22",
   "metadata": {},
   "outputs": [],
   "source": [
    "from numpy import mean\n",
    "from numpy import std\n",
    "from sklearn.datasets import make_classification\n",
    "from sklearn.model_selection import cross_val_score ,StratifiedKFold\n",
    "# create dataset\n",
    "X, y = make_classification(n_samples=373, n_features=8, n_informative=6, n_redundant=2, random_state=1)\n",
    "# prepare the cross-validation procedure\n",
    "cv = StratifiedKFold(n_splits=5)"
   ]
  },
  {
   "cell_type": "code",
   "execution_count": 25,
   "id": "5cab6c60",
   "metadata": {},
   "outputs": [
    {
     "name": "stdout",
     "output_type": "stream",
     "text": [
      "StratifiedKFold_SVM\n",
      "\n",
      "Cross Validation Scores are [0.96       0.90666667 0.94666667 0.94594595 0.95945946]\n",
      "Accuracy: 0.944 (0.019)\n"
     ]
    }
   ],
   "source": [
    "# create model\n",
    "model = SVC()\n",
    "# evaluate model\n",
    "scores = cross_val_score(model, X, y, scoring='accuracy', cv=cv, n_jobs=-1)\n",
    "# report performance\n",
    "print(\"StratifiedKFold_SVM\\n\")\n",
    "print(\"Cross Validation Scores are {}\".format(scores))\n",
    "print('Accuracy: %.3f (%.3f)' % (mean(scores), std(scores)))"
   ]
  },
  {
   "cell_type": "code",
   "execution_count": 26,
   "id": "9c6ef77e",
   "metadata": {},
   "outputs": [
    {
     "name": "stdout",
     "output_type": "stream",
     "text": [
      "StratifiedKFold_LogisticRegression\n",
      "\n",
      "Cross Validation Scores are [0.85333333 0.92       0.96       0.90540541 0.94594595]\n",
      "Accuracy: 0.917 (0.037)\n"
     ]
    }
   ],
   "source": [
    "# create model\n",
    "model = LogisticRegression()\n",
    "# evaluate model\n",
    "scores = cross_val_score(model, X, y, scoring='accuracy', cv=cv, n_jobs=-1)\n",
    "# report performance\n",
    "print(\"StratifiedKFold_LogisticRegression\\n\")\n",
    "print(\"Cross Validation Scores are {}\".format(scores))\n",
    "print('Accuracy: %.3f (%.3f)' % (mean(scores), std(scores)))"
   ]
  },
  {
   "cell_type": "code",
   "execution_count": 27,
   "id": "509daf8a",
   "metadata": {},
   "outputs": [
    {
     "name": "stdout",
     "output_type": "stream",
     "text": [
      "StratifiedKFold_DecisionTreeClassifier\n",
      "\n",
      "Cross Validation Scores are [0.88       0.89333333 0.94666667 0.93243243 0.86486486]\n",
      "Accuracy: 0.903 (0.031)\n"
     ]
    }
   ],
   "source": [
    "# create model\n",
    "model = DecisionTreeClassifier()\n",
    "# evaluate model\n",
    "scores = cross_val_score(model, X, y, scoring='accuracy', cv=cv, n_jobs=-1)\n",
    "# report performance\n",
    "print(\"StratifiedKFold_DecisionTreeClassifier\\n\")\n",
    "print(\"Cross Validation Scores are {}\".format(scores))\n",
    "print('Accuracy: %.3f (%.3f)' % (mean(scores), std(scores)))"
   ]
  },
  {
   "cell_type": "code",
   "execution_count": 28,
   "id": "b79f199d",
   "metadata": {},
   "outputs": [
    {
     "name": "stdout",
     "output_type": "stream",
     "text": [
      "StratifiedKFold_RandomForestClassifier\n",
      "\n",
      "Cross Validation Scores are [0.96       0.94666667 0.94666667 0.94594595 0.97297297]\n",
      "Accuracy: 0.954 (0.011)\n"
     ]
    }
   ],
   "source": [
    "# create model\n",
    "model = RandomForestClassifier()\n",
    "# evaluate model\n",
    "scores = cross_val_score(model, X, y, scoring='accuracy', cv=cv, n_jobs=-1)\n",
    "# report performance\n",
    "print(\"StratifiedKFold_RandomForestClassifier\\n\")\n",
    "print(\"Cross Validation Scores are {}\".format(scores))\n",
    "print('Accuracy: %.3f (%.3f)' % (mean(scores), std(scores)))"
   ]
  }
 ],
 "metadata": {
  "kernelspec": {
   "display_name": "Python 3 (ipykernel)",
   "language": "python",
   "name": "python3"
  },
  "language_info": {
   "codemirror_mode": {
    "name": "ipython",
    "version": 3
   },
   "file_extension": ".py",
   "mimetype": "text/x-python",
   "name": "python",
   "nbconvert_exporter": "python",
   "pygments_lexer": "ipython3",
   "version": "3.9.7"
  }
 },
 "nbformat": 4,
 "nbformat_minor": 5
}
